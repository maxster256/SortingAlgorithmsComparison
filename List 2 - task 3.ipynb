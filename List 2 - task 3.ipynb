{
 "cells": [
  {
   "cell_type": "markdown",
   "metadata": {},
   "source": [
    "# Detailed QuickSort and Dual-Pivot QuickSort Comparison\n",
    "\n",
    "Some comparisons between two algorithms."
   ]
  },
  {
   "cell_type": "code",
   "execution_count": 9,
   "metadata": {
    "collapsed": true
   },
   "outputs": [],
   "source": [
    "%matplotlib inline\n",
    "\n",
    "import matplotlib\n",
    "import matplotlib.pyplot as plt\n",
    "import pandas as pd\n",
    "import numpy as np\n",
    "import random\n",
    "import time\n",
    "\n",
    "from dual_pivot_qs import DualPivotQuickSort\n",
    "from quick_sort import QuickSort\n",
    "from IPython.display import display"
   ]
  },
  {
   "cell_type": "code",
   "execution_count": null,
   "metadata": {
    "collapsed": true
   },
   "outputs": [],
   "source": []
  },
  {
   "cell_type": "code",
   "execution_count": 10,
   "metadata": {
    "collapsed": true
   },
   "outputs": [],
   "source": [
    "qsort = np.zeros(shape=(10, 4))\n",
    "dqsort = np.zeros(shape=(10, 4))"
   ]
  },
  {
   "cell_type": "code",
   "execution_count": 18,
   "metadata": {},
   "outputs": [
    {
     "name": "stderr",
     "output_type": "stream",
     "text": [
      "quicksort: compare, shift\n",
      "quicksort: compare, shift\n",
      "quicksort: compare, shift\n",
      "quicksort: compare, shift\n",
      "quicksort: compare, shift\n",
      "quicksort: compare, shift\n",
      "quicksort: shift\n",
      "quicksort: compare, shift\n",
      "quicksort: compare, shift\n",
      "quicksort: compare, shift\n",
      "quicksort: compare, shift\n",
      "quicksort: shift\n",
      "quicksort: compare, shift\n",
      "quicksort: shift\n",
      "quicksort: shift\n",
      "quicksort: compare, shift\n",
      "quicksort: shift\n",
      "dual_quicksort: compare\n",
      "dual_quicksort: compare\n",
      "dual_quicksort: compare\n",
      "dual_quicksort: compare\n",
      "dual_quicksort: compare\n",
      "dual_quicksort: compare\n",
      "dual_quicksort: compare\n",
      "dual_quicksort: compare\n",
      "dual_quicksort: compare\n",
      "dual_quicksort: compare\n",
      "dual_quicksort: compare\n",
      "dual_quicksort: compare\n",
      "dual_quicksort: compare\n",
      "dual_quicksort: compare\n",
      "dual_quicksort: compare\n",
      "dual_quicksort: compare\n",
      "dual_quicksort: compare\n",
      "dual_quicksort: compare\n",
      "dual_quicksort: compare\n",
      "dual_quicksort: compare\n",
      "dual_quicksort: compare\n",
      "dual_quicksort: compare\n",
      "dual_quicksort: compare\n",
      "dual_quicksort: compare\n",
      "dual_quicksort: compare\n"
     ]
    },
    {
     "ename": "AttributeError",
     "evalue": "'DualPivotQuickSort' object has no attribute 'compares'",
     "output_type": "error",
     "traceback": [
      "\u001b[0;31m---------------------------------------------------------------------------\u001b[0m",
      "\u001b[0;31mAttributeError\u001b[0m                            Traceback (most recent call last)",
      "\u001b[0;32m<ipython-input-18-971147c1900d>\u001b[0m in \u001b[0;36m<module>\u001b[0;34m()\u001b[0m\n\u001b[1;32m     28\u001b[0m     \u001b[0mdq_elapsed\u001b[0m \u001b[0;34m=\u001b[0m \u001b[0mend\u001b[0m \u001b[0;34m-\u001b[0m \u001b[0mstart\u001b[0m\u001b[0;34m\u001b[0m\u001b[0m\n\u001b[1;32m     29\u001b[0m \u001b[0;34m\u001b[0m\u001b[0m\n\u001b[0;32m---> 30\u001b[0;31m     \u001b[0mdqcompares\u001b[0m \u001b[0;34m=\u001b[0m \u001b[0mdual_quick_sorting\u001b[0m\u001b[0;34m.\u001b[0m\u001b[0mcompares\u001b[0m\u001b[0;34m\u001b[0m\u001b[0m\n\u001b[0m\u001b[1;32m     31\u001b[0m     \u001b[0mdqshifts\u001b[0m \u001b[0;34m=\u001b[0m \u001b[0mdual_quick_sorting\u001b[0m\u001b[0;34m.\u001b[0m\u001b[0mshifts\u001b[0m\u001b[0;34m\u001b[0m\u001b[0m\n\u001b[1;32m     32\u001b[0m \u001b[0;34m\u001b[0m\u001b[0m\n",
      "\u001b[0;31mAttributeError\u001b[0m: 'DualPivotQuickSort' object has no attribute 'compares'"
     ]
    }
   ],
   "source": [
    "q_array_index = 0\n",
    "dq_array_index = 0\n",
    "\n",
    "for k in range(10, 110, 10):\n",
    "    \n",
    "    random_data = random.sample(range(k), k)\n",
    "    qdata = random_data\n",
    "\n",
    "    quick_sorting = QuickSort()\n",
    "    start = time.time()\n",
    "    quick_sorting.quick_sort(qdata, 0, len(qdata) - 1)\n",
    "    end = time.time()\n",
    "    q_elapsed = end - start\n",
    "    \n",
    "    qcompares = quick_sorting._compares\n",
    "    qshifts = quick_sorting._shifts\n",
    "    \n",
    "    qsort[q_array_index] = [k, qcompares, qshifts, q_elapsed]\n",
    "\n",
    "    q_array_index += 1\n",
    "    \n",
    "    dqdata = random_data\n",
    "    \n",
    "    dual_quick_sorting = DualPivotQuickSort()\n",
    "    start = time.time()\n",
    "    dual_quick_sorting.dual_quicksort(dqdata, 0, len(dqdata) - 1)\n",
    "    end = time.time()\n",
    "    dq_elapsed = end - start\n",
    "    \n",
    "    dqcompares = dual_quick_sorting.compares\n",
    "    dqshifts = dual_quick_sorting.shifts\n",
    "            \n",
    "    dqsort[dq_array_index] = [k, dqcompares, dqshifts, dq_elapsed]\n",
    "    \n",
    "    dq_array_index += 1\n"
   ]
  },
  {
   "cell_type": "code",
   "execution_count": 4,
   "metadata": {
    "collapsed": true
   },
   "outputs": [],
   "source": [
    "qs = pd.DataFrame(qsort, columns = [\"Size\", \"Comparisons\", \"Swaps\", \"Duration\"])\n",
    "dqs = pd.DataFrame(dqsort, columns = [\"Size\", \"Comparisons\", \"Swaps\", \"Duration\"])"
   ]
  },
  {
   "cell_type": "code",
   "execution_count": 5,
   "metadata": {},
   "outputs": [
    {
     "data": {
      "text/html": [
       "<div>\n",
       "<style>\n",
       "    .dataframe thead tr:only-child th {\n",
       "        text-align: right;\n",
       "    }\n",
       "\n",
       "    .dataframe thead th {\n",
       "        text-align: left;\n",
       "    }\n",
       "\n",
       "    .dataframe tbody tr th {\n",
       "        vertical-align: top;\n",
       "    }\n",
       "</style>\n",
       "<table border=\"1\" class=\"dataframe\">\n",
       "  <thead>\n",
       "    <tr style=\"text-align: right;\">\n",
       "      <th></th>\n",
       "      <th>Size</th>\n",
       "      <th>Comparisons</th>\n",
       "      <th>Swaps</th>\n",
       "      <th>Duration</th>\n",
       "    </tr>\n",
       "  </thead>\n",
       "  <tbody>\n",
       "    <tr>\n",
       "      <th>0</th>\n",
       "      <td>10.0</td>\n",
       "      <td>14.0</td>\n",
       "      <td>21.0</td>\n",
       "      <td>0.007318</td>\n",
       "    </tr>\n",
       "    <tr>\n",
       "      <th>1</th>\n",
       "      <td>20.0</td>\n",
       "      <td>56.0</td>\n",
       "      <td>68.0</td>\n",
       "      <td>0.010407</td>\n",
       "    </tr>\n",
       "    <tr>\n",
       "      <th>2</th>\n",
       "      <td>30.0</td>\n",
       "      <td>73.0</td>\n",
       "      <td>93.0</td>\n",
       "      <td>0.012012</td>\n",
       "    </tr>\n",
       "    <tr>\n",
       "      <th>3</th>\n",
       "      <td>40.0</td>\n",
       "      <td>69.0</td>\n",
       "      <td>96.0</td>\n",
       "      <td>0.010817</td>\n",
       "    </tr>\n",
       "    <tr>\n",
       "      <th>4</th>\n",
       "      <td>50.0</td>\n",
       "      <td>102.0</td>\n",
       "      <td>135.0</td>\n",
       "      <td>0.035339</td>\n",
       "    </tr>\n",
       "    <tr>\n",
       "      <th>5</th>\n",
       "      <td>60.0</td>\n",
       "      <td>155.0</td>\n",
       "      <td>193.0</td>\n",
       "      <td>0.023298</td>\n",
       "    </tr>\n",
       "    <tr>\n",
       "      <th>6</th>\n",
       "      <td>70.0</td>\n",
       "      <td>143.0</td>\n",
       "      <td>189.0</td>\n",
       "      <td>0.021051</td>\n",
       "    </tr>\n",
       "    <tr>\n",
       "      <th>7</th>\n",
       "      <td>80.0</td>\n",
       "      <td>195.0</td>\n",
       "      <td>248.0</td>\n",
       "      <td>0.038468</td>\n",
       "    </tr>\n",
       "    <tr>\n",
       "      <th>8</th>\n",
       "      <td>90.0</td>\n",
       "      <td>273.0</td>\n",
       "      <td>332.0</td>\n",
       "      <td>0.025302</td>\n",
       "    </tr>\n",
       "    <tr>\n",
       "      <th>9</th>\n",
       "      <td>100.0</td>\n",
       "      <td>324.0</td>\n",
       "      <td>390.0</td>\n",
       "      <td>0.024854</td>\n",
       "    </tr>\n",
       "  </tbody>\n",
       "</table>\n",
       "</div>"
      ],
      "text/plain": [
       "    Size  Comparisons  Swaps  Duration\n",
       "0   10.0         14.0   21.0  0.007318\n",
       "1   20.0         56.0   68.0  0.010407\n",
       "2   30.0         73.0   93.0  0.012012\n",
       "3   40.0         69.0   96.0  0.010817\n",
       "4   50.0        102.0  135.0  0.035339\n",
       "5   60.0        155.0  193.0  0.023298\n",
       "6   70.0        143.0  189.0  0.021051\n",
       "7   80.0        195.0  248.0  0.038468\n",
       "8   90.0        273.0  332.0  0.025302\n",
       "9  100.0        324.0  390.0  0.024854"
      ]
     },
     "execution_count": 5,
     "metadata": {},
     "output_type": "execute_result"
    }
   ],
   "source": [
    "qs.head(10)"
   ]
  },
  {
   "cell_type": "code",
   "execution_count": 14,
   "metadata": {},
   "outputs": [
    {
     "data": {
      "image/png": "[encoded data removed]",
      "text/plain": [
       "<matplotlib.figure.Figure at 0x11245fb70>"
      ]
     },
     "metadata": {},
     "output_type": "display_data"
    }
   ],
   "source": [
    "fig = plt.figure()\n",
    "\n",
    "plt.plot(qs['Size'], qs['Duration'], label=\"QuickSort\")\n",
    "plt.plot(dqs['Size'], dqs['Duration'], label=\"Dual QuickSort\")\n",
    "\n",
    "plt.title(\"Combined Statistics\")\n",
    "plt.xlabel(\"Total duration (s)\")\n",
    "plt.ylabel(\"Size of data (n)\")\n",
    "plt.legend(loc='upper left')\n",
    "plt.show()"
   ]
  },
  {
   "cell_type": "code",
   "execution_count": 15,
   "metadata": {},
   "outputs": [
    {
     "data": {
      "image/png": "[encoded data removed]",
      "text/plain": [
       "<matplotlib.figure.Figure at 0x11247a9b0>"
      ]
     },
     "metadata": {},
     "output_type": "display_data"
    }
   ],
   "source": [
    "fig = plt.figure()\n",
    "\n",
    "plt.plot(qs['Size'], qs['Comparisons'], label=\"QuickSort\")\n",
    "plt.plot(dqs['Size'], dqs['Comparisons'], label=\"Dual QuickSort\")\n",
    "\n",
    "plt.title(\"Combined Statistics\")\n",
    "plt.xlabel(\"Total comparisons\")\n",
    "plt.ylabel(\"Size of data (n)\")\n",
    "plt.legend(loc='upper left')\n",
    "plt.show()"
   ]
  },
  {
   "cell_type": "code",
   "execution_count": 16,
   "metadata": {},
   "outputs": [
    {
     "data": {
      "image/png": "[encoded data removed]",
      "text/plain": [
       "<matplotlib.figure.Figure at 0x1124a1a90>"
      ]
     },
     "metadata": {},
     "output_type": "display_data"
    }
   ],
   "source": [
    "fig = plt.figure()\n",
    "\n",
    "plt.plot(qs['Comparisons'], qs['Swaps'], label=\"QuickSort\")\n",
    "plt.plot(dqs['Comparisons'], dqs['Swaps'], label=\"Dual QuickSort\")\n",
    "\n",
    "plt.title(\"Combined Statistics\")\n",
    "plt.xlabel(\"Total duration (s)\")\n",
    "plt.ylabel(\"Size of data (n)\")\n",
    "plt.legend(loc='upper left')\n",
    "plt.show()"
   ]
  }
 ],
 "metadata": {
  "kernelspec": {
   "display_name": "Python 3",
   "language": "python",
   "name": "python3"
  },
  "language_info": {
   "codemirror_mode": {
    "name": "ipython",
    "version": 3
   },
   "file_extension": ".py",
   "mimetype": "text/x-python",
   "name": "python",
   "nbconvert_exporter": "python",
   "pygments_lexer": "ipython3",
   "version": "3.6.3"
  }
 },
 "nbformat": 4,
 "nbformat_minor": 2
}
